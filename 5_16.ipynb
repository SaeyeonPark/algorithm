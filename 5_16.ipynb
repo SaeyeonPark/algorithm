{
 "cells": [
  {
   "cell_type": "code",
   "execution_count": null,
   "metadata": {},
   "outputs": [],
   "source": [
    "def snail(n) :\n",
    "    arr = [[0 for i in range(n)] for i in range (n)]\n",
    "    row = 0\n",
    "    col = -1\n",
    "    cnt = 1\n",
    "    trans = 1\n",
    "    while n > 0:\n",
    "        for i in range(n) :\n",
    "            col += trans\n",
    "            arr[row][col] = cnt\n",
    "            cnt += 1\n",
    "        n -= 1\n",
    "        for j in range(n) :\n",
    "            row += trans\n",
    "            arr[row][col] = cnt\n",
    "            cnt += 1\n",
    "        trans *= -1\n",
    "    return arr\n",
    "\n",
    "arr = snail(4)\n",
    "for i in arr :\n",
    "    for j in i :\n",
    "        print('%5d' %j, end =' ')\n",
    "    print()"
   ]
  }
 ],
 "metadata": {
  "language_info": {
   "name": "python"
  },
  "orig_nbformat": 4
 },
 "nbformat": 4,
 "nbformat_minor": 2
}
