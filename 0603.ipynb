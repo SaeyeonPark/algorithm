{
 "cells": [
  {
   "cell_type": "code",
   "execution_count": 5,
   "metadata": {},
   "outputs": [],
   "source": [
    "def func1() :\n",
    "    print(\"Module.py의 func1()이 호출됨.\")\n",
    "\n",
    "def func2() :\n",
    "    print(\"Module.py의 func2()이 호출됨.\")\n",
    "\n",
    "def func3() :\n",
    "    print(\"Module.py의 func3()이 호출됨.\")"
   ]
  },
  {
   "cell_type": "code",
   "execution_count": 4,
   "metadata": {},
   "outputs": [
    {
     "data": {
      "text/plain": [
       "<function module.func3()>"
      ]
     },
     "execution_count": 4,
     "metadata": {},
     "output_type": "execute_result"
    }
   ],
   "source": [
    "import module\n",
    "module.func1\n",
    "module.func2\n",
    "module.func3\n"
   ]
  },
  {
   "cell_type": "code",
   "execution_count": 7,
   "metadata": {},
   "outputs": [
    {
     "name": "stdout",
     "output_type": "stream",
     "text": [
      "[11, 12, 13, 14, 15]\n"
     ]
    }
   ],
   "source": [
    "myList = [1, 2, 3, 4, 5]\n",
    "add10 = lambda num : num + 10\n",
    "myList = list(map(add10, myList))\n",
    "print(myList)"
   ]
  },
  {
   "cell_type": "code",
   "execution_count": 12,
   "metadata": {},
   "outputs": [],
   "source": [
    "import tkinter as tk\n",
    "w = tk.Tk()\n",
    "\n",
    "l = tk.Label(w, text=\"안녕하세요\")\n",
    "b = tk.Label(w, text=\"확인\")\n",
    "\n",
    "l.pack()\n",
    "b.pack()\n",
    "\n",
    "w.mainloop()"
   ]
  },
  {
   "cell_type": "code",
   "execution_count": 25,
   "metadata": {},
   "outputs": [],
   "source": [
    "from tkinter import *\n",
    "\n",
    "def blue():\n",
    "    global color\n",
    "    color = \"blue\"\n",
    "\n",
    "def red():\n",
    "    global color\n",
    "    color = \"red\"\n",
    "\n",
    "def thin():\n",
    "    global pensize\n",
    "    pensize = 1\n",
    "\n",
    "def thick():\n",
    "    global pensize\n",
    "    pensize = 7\n",
    "\n",
    "def onStart(e): #e 객체의 속성인 x, y값을 이용하여 좌표값 계산, 다른함수에서도 사용해서 전역함수로\n",
    "    global prevx, prevy\n",
    "    prevx = e.x\n",
    "    prevy = e.y\n",
    "\n",
    "def onDraw(e):\n",
    "    global prevx, prevy, canvas, color, pensize\n",
    "    curx = e.x\n",
    "    cury = e.y\n",
    "    canvas.create_line(prevx, prevy, curx, cury, width=pensize, fill=color)\n",
    "    prevx = curx\n",
    "    prevy = cury\n",
    "\n",
    "w = Tk()\n",
    "w.geometry(\"400x400+10+10\") #낙서장의 크기 400x400, (10,10)위치에 뜨게 함\n",
    "\n",
    "canvas = Canvas(w, width=400, height=350, bg=\"beige\")\n",
    "canvas.grid(row=0, column=0, columnspan=4)\n",
    "\n",
    "bb = Button(w, text=\"파랑펜\", bg=\"blue\", fg=\"white\", command=blue)\n",
    "rb = Button(w, text=\"빨강펜\", bg=\"red\", fg=\"white\", command=red)#command=red blue는 함수를 만들어야 사용가능\n",
    "nb = Button(w, text=\"가는펜\", command=thin)\n",
    "kb = Button(w, text=\"굵은펜\", command=thick)\n",
    "bb.grid(row=1,column=0)\n",
    "rb.grid(row=1,column=1)\n",
    "nb.grid(row=1,column=2)\n",
    "kb.grid(row=1,column=3)\n",
    "\n",
    "canvas.bind('<ButtonPress-1>', onStart)\n",
    "canvas.bind('<B1-Motion>', onDraw)\n",
    "w.mainloop()"
   ]
  },
  {
   "cell_type": "code",
   "execution_count": 26,
   "metadata": {},
   "outputs": [],
   "source": [
    "#!/usr/bin/env python\n",
    "# coding: utf-8\n",
    "\n",
    "# In[1]:tkinter 라이브러리 사용하기\n",
    "from tkinter import *\n",
    "\n",
    "# In[2]:화면에 표시할 window 창에 대한 변수\n",
    "window = None\n",
    "\n",
    "# In[3]:Canvas를 만들기 위한 변수\n",
    "canvas = None\n",
    "\n",
    "# In[4]:마우스 좌표를 위한 변수\n",
    "x1, y1 = None, None\n",
    "\n",
    "# In[5]:Canvas에 그릴 선의 굵기를 위한 변수\n",
    "wp = 5\n",
    "\n",
    "# In[6]: Mouse Move에 대한 함수 정의, Mouse의 좌표를 통해 canvas에 선을 생성함\n",
    "def mouseMove(event):\n",
    "    global x1, y1\n",
    "    x1 = event.x\n",
    "    y1 = event.y\n",
    "    canvas.create_line(x1, y1, x1+10, y1+10, width=wp, fill=\"black\")\n",
    "\n",
    "# In[7]:Mouse Scroll에 대한 함수 정의, 선의 굵기를 설정하고, Label에 굵기 문구 업데이트\n",
    "def mouseScroll(event):\n",
    "    global wp\n",
    "    if event.delta==120:\n",
    "        wp+=1\n",
    "    if event.delta==-120:\n",
    "        wp-=1\n",
    "        if wp<1:\n",
    "            wp = 1\n",
    "    textSize.config(text=str(wp))\n",
    "\n",
    "# In[8]:Canvas를 Clear 하는 함수 정의\n",
    "def clearCanvas():\n",
    "    canvas.delete(\"all\")\n",
    "\n",
    "# In[9]:tkinter 생성\n",
    "window=Tk()\n",
    "\n",
    "# In[10]:버튼 2개와 라벨을 위치시킬 프레임 생성, \n",
    "frame = Frame(window)\n",
    "\n",
    "# In[11]:프레임은 window에 위치시킴\n",
    "frame.pack()\n",
    "\n",
    "# In[12]:캔버스를 window에 위치시키고, 높이와 너비 설정함\n",
    "canvas=Canvas(window, height=500,width=400)\n",
    "\n",
    "# In[13]:캔버스에 B1-Motion(왼쪽 버튼에 대한 모션)을 정의한 mouseMove 함수와 bind함\n",
    "canvas.bind('<B1-Motion>', mouseMove)\n",
    "\n",
    "# In[14]:캔버스에 MouseWheel(마우스 휠)을 정의한 mouseScroll 함수와 bind함\n",
    "canvas.bind('<MouseWheel>', mouseScroll)\n",
    "\n",
    "# In[15]:canvas를 아래쪽에 위치시킴\n",
    "canvas.pack(side=BOTTOM)\n",
    "\n",
    "# In[16]:window의 제목을 설정\n",
    "window.title(\"Paint\")\n",
    "\n",
    "# In[17]: 종료 버튼 생성 및 설정\n",
    "button = Button(frame, text=\"Exit\", fg = \"red\",\n",
    "               command=window.destroy)\n",
    "\n",
    "# In[18]: 종료 버튼을 frame에 위치 시킴\n",
    "button.grid(row=1, column = 1)\n",
    "\n",
    "# In[19]: canvas를 clear할 버튼 생성 및 설정\n",
    "clear = Button(frame, text=\"Clear\", fg = \"red\",\n",
    "              command=clearCanvas)\n",
    "\n",
    "# In[20]: clear 버튼을 frame에 위치 시킴\n",
    "clear.grid(row=1, column = 2)\n",
    "\n",
    "# In[21]: 선의 굵기에 대한 문구를 표시할 라벨 설정\n",
    "textSize = Label(frame, text = str(wp))\n",
    "\n",
    "# In[22]: Label을 frame에 위치 시킴\n",
    "textSize.grid(row=1, column = 3)\n",
    "\n",
    "# In[ ]: 메인 루프 설정\n",
    "window.mainloop()"
   ]
  },
  {
   "cell_type": "code",
   "execution_count": 1,
   "metadata": {},
   "outputs": [],
   "source": [
    "from tkinter import *\n",
    "window = Tk()\n",
    "\n",
    "photo = PhotoImage(file='dog.gif')\n",
    "Label = Label(window, image = photo)\n",
    "\n",
    "Label.pack()\n",
    "window.mainloop()"
   ]
  },
  {
   "cell_type": "code",
   "execution_count": 2,
   "metadata": {},
   "outputs": [
    {
     "ename": "",
     "evalue": "",
     "output_type": "error",
     "traceback": [
      "\u001b[1;31mThe Kernel crashed while executing code in the the current cell or a previous cell. Please review the code in the cell(s) to identify a possible cause of the failure. Click <a href='https://aka.ms/vscodeJupyterKernelCrash'>here</a> for more info. View Jupyter <a href='command:jupyter.viewOutput'>log</a> for further details."
     ]
    }
   ],
   "source": [
    "from tkinter import *\n",
    "window = Tk()\n",
    "\n",
    "button1 = Button(window, text=\"파이썬 종료\", fg = \"red\", command=quit)\n",
    "\n",
    "button1.pack()\n",
    "window.mainloop()"
   ]
  },
  {
   "cell_type": "code",
   "execution_count": 2,
   "metadata": {},
   "outputs": [
    {
     "ename": "TclError",
     "evalue": "image \"pyimage3\" doesn't exist",
     "output_type": "error",
     "traceback": [
      "\u001b[1;31m---------------------------------------------------------------------------\u001b[0m",
      "\u001b[1;31mTclError\u001b[0m                                  Traceback (most recent call last)",
      "\u001b[1;32mc:\\Users\\saeyo\\OneDrive\\바탕 화면\\AI\\AICLASS\\0603.ipynb Cell 9'\u001b[0m in \u001b[0;36m<cell line: 13>\u001b[1;34m()\u001b[0m\n\u001b[0;32m     <a href='vscode-notebook-cell:/c%3A/Users/saeyo/OneDrive/%EB%B0%94%ED%83%95%20%ED%99%94%EB%A9%B4/AI/AICLASS/0603.ipynb#ch0000008?line=12'>13</a>\u001b[0m \u001b[39mfor\u001b[39;00m i \u001b[39min\u001b[39;00m \u001b[39mrange\u001b[39m(\u001b[39m0\u001b[39m, \u001b[39m9\u001b[39m) :\n\u001b[0;32m     <a href='vscode-notebook-cell:/c%3A/Users/saeyo/OneDrive/%EB%B0%94%ED%83%95%20%ED%99%94%EB%A9%B4/AI/AICLASS/0603.ipynb#ch0000008?line=13'>14</a>\u001b[0m     photoList[i] \u001b[39m=\u001b[39m PhotoImage(file\u001b[39m=\u001b[39mfnameList[i])\n\u001b[1;32m---> <a href='vscode-notebook-cell:/c%3A/Users/saeyo/OneDrive/%EB%B0%94%ED%83%95%20%ED%99%94%EB%A9%B4/AI/AICLASS/0603.ipynb#ch0000008?line=14'>15</a>\u001b[0m     btnList[i] \u001b[39m=\u001b[39m Button(window, image\u001b[39m=\u001b[39;49mphotoList[i])\n\u001b[0;32m     <a href='vscode-notebook-cell:/c%3A/Users/saeyo/OneDrive/%EB%B0%94%ED%83%95%20%ED%99%94%EB%A9%B4/AI/AICLASS/0603.ipynb#ch0000008?line=16'>17</a>\u001b[0m \u001b[39mfor\u001b[39;00m i \u001b[39min\u001b[39;00m \u001b[39mrange\u001b[39m(\u001b[39m0\u001b[39m, \u001b[39m3\u001b[39m) :\n\u001b[0;32m     <a href='vscode-notebook-cell:/c%3A/Users/saeyo/OneDrive/%EB%B0%94%ED%83%95%20%ED%99%94%EB%A9%B4/AI/AICLASS/0603.ipynb#ch0000008?line=17'>18</a>\u001b[0m     \u001b[39mfor\u001b[39;00m k \u001b[39min\u001b[39;00m \u001b[39mrange\u001b[39m(\u001b[39m0\u001b[39m, \u001b[39m3\u001b[39m) :\n",
      "File \u001b[1;32mc:\\Users\\saeyo\\AppData\\Local\\Programs\\Python\\Python310\\lib\\tkinter\\__init__.py:2679\u001b[0m, in \u001b[0;36mButton.__init__\u001b[1;34m(self, master, cnf, **kw)\u001b[0m\n\u001b[0;32m   <a href='file:///c%3A/Users/saeyo/AppData/Local/Programs/Python/Python310/lib/tkinter/__init__.py?line=2659'>2660</a>\u001b[0m \u001b[39mdef\u001b[39;00m \u001b[39m__init__\u001b[39m(\u001b[39mself\u001b[39m, master\u001b[39m=\u001b[39m\u001b[39mNone\u001b[39;00m, cnf\u001b[39m=\u001b[39m{}, \u001b[39m*\u001b[39m\u001b[39m*\u001b[39mkw):\n\u001b[0;32m   <a href='file:///c%3A/Users/saeyo/AppData/Local/Programs/Python/Python310/lib/tkinter/__init__.py?line=2660'>2661</a>\u001b[0m     \u001b[39m\"\"\"Construct a button widget with the parent MASTER.\u001b[39;00m\n\u001b[0;32m   <a href='file:///c%3A/Users/saeyo/AppData/Local/Programs/Python/Python310/lib/tkinter/__init__.py?line=2661'>2662</a>\u001b[0m \n\u001b[0;32m   <a href='file:///c%3A/Users/saeyo/AppData/Local/Programs/Python/Python310/lib/tkinter/__init__.py?line=2662'>2663</a>\u001b[0m \u001b[39m    STANDARD OPTIONS\u001b[39;00m\n\u001b[1;32m   (...)\u001b[0m\n\u001b[0;32m   <a href='file:///c%3A/Users/saeyo/AppData/Local/Programs/Python/Python310/lib/tkinter/__init__.py?line=2676'>2677</a>\u001b[0m \u001b[39m        overrelief, state, width\u001b[39;00m\n\u001b[0;32m   <a href='file:///c%3A/Users/saeyo/AppData/Local/Programs/Python/Python310/lib/tkinter/__init__.py?line=2677'>2678</a>\u001b[0m \u001b[39m    \"\"\"\u001b[39;00m\n\u001b[1;32m-> <a href='file:///c%3A/Users/saeyo/AppData/Local/Programs/Python/Python310/lib/tkinter/__init__.py?line=2678'>2679</a>\u001b[0m     Widget\u001b[39m.\u001b[39;49m\u001b[39m__init__\u001b[39;49m(\u001b[39mself\u001b[39;49m, master, \u001b[39m'\u001b[39;49m\u001b[39mbutton\u001b[39;49m\u001b[39m'\u001b[39;49m, cnf, kw)\n",
      "File \u001b[1;32mc:\\Users\\saeyo\\AppData\\Local\\Programs\\Python\\Python310\\lib\\tkinter\\__init__.py:2601\u001b[0m, in \u001b[0;36mBaseWidget.__init__\u001b[1;34m(self, master, widgetName, cnf, kw, extra)\u001b[0m\n\u001b[0;32m   <a href='file:///c%3A/Users/saeyo/AppData/Local/Programs/Python/Python310/lib/tkinter/__init__.py?line=2598'>2599</a>\u001b[0m \u001b[39mfor\u001b[39;00m k, v \u001b[39min\u001b[39;00m classes:\n\u001b[0;32m   <a href='file:///c%3A/Users/saeyo/AppData/Local/Programs/Python/Python310/lib/tkinter/__init__.py?line=2599'>2600</a>\u001b[0m     \u001b[39mdel\u001b[39;00m cnf[k]\n\u001b[1;32m-> <a href='file:///c%3A/Users/saeyo/AppData/Local/Programs/Python/Python310/lib/tkinter/__init__.py?line=2600'>2601</a>\u001b[0m \u001b[39mself\u001b[39;49m\u001b[39m.\u001b[39;49mtk\u001b[39m.\u001b[39;49mcall(\n\u001b[0;32m   <a href='file:///c%3A/Users/saeyo/AppData/Local/Programs/Python/Python310/lib/tkinter/__init__.py?line=2601'>2602</a>\u001b[0m     (widgetName, \u001b[39mself\u001b[39;49m\u001b[39m.\u001b[39;49m_w) \u001b[39m+\u001b[39;49m extra \u001b[39m+\u001b[39;49m \u001b[39mself\u001b[39;49m\u001b[39m.\u001b[39;49m_options(cnf))\n\u001b[0;32m   <a href='file:///c%3A/Users/saeyo/AppData/Local/Programs/Python/Python310/lib/tkinter/__init__.py?line=2602'>2603</a>\u001b[0m \u001b[39mfor\u001b[39;00m k, v \u001b[39min\u001b[39;00m classes:\n\u001b[0;32m   <a href='file:///c%3A/Users/saeyo/AppData/Local/Programs/Python/Python310/lib/tkinter/__init__.py?line=2603'>2604</a>\u001b[0m     k\u001b[39m.\u001b[39mconfigure(\u001b[39mself\u001b[39m, v)\n",
      "\u001b[1;31mTclError\u001b[0m: image \"pyimage3\" doesn't exist"
     ]
    }
   ],
   "source": [
    "from tkinter import *\n",
    "\n",
    "btnList = [None] * 9\n",
    "fnameList = [\"dog.gif\", \"dog.gif\", \"cat.gif\", \"cat.gif\", \"cat.gif\", \"cat.gif\", \"cat.gif\", \"cat.gif\", \"cat.gif\"]\n",
    "photoList = [None] * 9\n",
    "i, k = 0, 0\n",
    "xPos, yPos = 0, 0\n",
    "num = 0\n",
    "\n",
    "window = Tk()\n",
    "window.geometry(\"210x210\")\n",
    "\n",
    "for i in range(0, 9) :\n",
    "    photoList[i] = PhotoImage(file=fnameList[i])\n",
    "    btnList[i] = Button(window, image=photoList[i])\n",
    "\n",
    "for i in range(0, 3) :\n",
    "    for k in range(0, 3) :\n",
    "        btnList[num].place(x = xPos, y = yPos)\n",
    "        num += 1\n",
    "        xPos += 70\n",
    "    xPos = 0\n",
    "    yPos += 70\n",
    "\n",
    "window.mainloop()"
   ]
  }
 ],
 "metadata": {
  "interpreter": {
   "hash": "69d261d4fc6ed52576d507483cb445aa213c360ef71db87afb0c19055c8e848a"
  },
  "kernelspec": {
   "display_name": "Python 3.10.4 64-bit",
   "language": "python",
   "name": "python3"
  },
  "language_info": {
   "codemirror_mode": {
    "name": "ipython",
    "version": 3
   },
   "file_extension": ".py",
   "mimetype": "text/x-python",
   "name": "python",
   "nbconvert_exporter": "python",
   "pygments_lexer": "ipython3",
   "version": "3.10.4"
  },
  "orig_nbformat": 4
 },
 "nbformat": 4,
 "nbformat_minor": 2
}
