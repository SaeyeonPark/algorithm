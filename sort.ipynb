{
 "cells": [
  {
   "cell_type": "code",
   "execution_count": null,
   "metadata": {},
   "outputs": [],
   "source": [
    "input = [4, 6, 2, 9, 1]\n",
    "#bubble\n",
    "\n",
    "def bubble_sort(array):\n",
    "    for i in range(len(array)-1):\n",
    "        for j in range(len(array)-i-1):\n",
    "            print(j)\n",
    "            if array[j] > array[j+1]:\n",
    "                array[j], array[j+1] = array[j+1],array[j]\n",
    "    return\n",
    "\n",
    "bubble_sort(input)\n",
    "print(input)"
   ]
  },
  {
   "cell_type": "code",
   "execution_count": null,
   "metadata": {},
   "outputs": [],
   "source": [
    "#Select\n",
    "def selection_sort(array):\n",
    "    num = len(array)\n",
    "\n",
    "    for i in range(num-1):\n",
    "        min_idx = i\n",
    "        for j in range(i, num):\n",
    "            if array[min_idx] > array[j]:\n",
    "                min_idx = j\n",
    "        array[i],array[min_idx] = array[min_idx], array[i]\n",
    "\n",
    "    return\n",
    "\n",
    "\n",
    "selection_sort(input)\n",
    "print(input)"
   ]
  },
  {
   "cell_type": "code",
   "execution_count": null,
   "metadata": {},
   "outputs": [],
   "source": [
    "#insertion\n",
    "def Insertion_Sort(array):\n",
    "    for a in range(1, len(array)):\n",
    "        for b in range(a, 0, -1):\n",
    "            if array[b] < array[b-1]:\n",
    "                   array[b], array[b-1] = array[b-1], array[b]\n",
    "            else:\n",
    "                   break\n",
    "    return array\n",
    "\n",
    "import random\n",
    "array = random.sample(range(100), 10)\n",
    "\n",
    "print(array)\n",
    "print(Insertion_Sort(array))"
   ]
  }
 ],
 "metadata": {
  "language_info": {
   "name": "python"
  },
  "orig_nbformat": 4
 },
 "nbformat": 4,
 "nbformat_minor": 2
}
