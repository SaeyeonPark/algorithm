{
 "cells": [
  {
   "cell_type": "code",
   "execution_count": null,
   "metadata": {},
   "outputs": [],
   "source": [
    "import sys\n",
    "sys.stdin = open(\"input.txt\", \"rt\")\n",
    "\n",
    "n = int(input())\n",
    "a = [list(map(int, input().split())) for _ in range(n)]\n",
    "res = 0\n",
    "s = e = n//2\n",
    "for i in range(n) :\n",
    "    for j in range(s, e + 1) :\n",
    "        res += a[i][j]\n",
    "    if i < n//2 :\n",
    "        s -= 1\n",
    "        e += 1\n",
    "    else :\n",
    "        s += 1\n",
    "        e -= 1\n",
    "print(res)"
   ]
  }
 ],
 "metadata": {
  "language_info": {
   "name": "python"
  },
  "orig_nbformat": 4
 },
 "nbformat": 4,
 "nbformat_minor": 2
}
